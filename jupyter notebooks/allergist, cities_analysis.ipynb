{
 "cells": [
  {
   "cell_type": "code",
   "execution_count": 20,
   "metadata": {},
   "outputs": [],
   "source": [
    "import pandas as pd\n",
    "import numpy as np\n",
    "\n",
    "best_cities = pd.read_csv('best_cities.csv')\n",
    "worst_cities = pd.read_csv('worst_cities.csv')\n",
    "allergist = pd.read_csv('allergist_latlong.csv')"
   ]
  },
  {
   "cell_type": "code",
   "execution_count": 6,
   "metadata": {},
   "outputs": [
    {
     "data": {
      "text/html": [
       "<div>\n",
       "<style scoped>\n",
       "    .dataframe tbody tr th:only-of-type {\n",
       "        vertical-align: middle;\n",
       "    }\n",
       "\n",
       "    .dataframe tbody tr th {\n",
       "        vertical-align: top;\n",
       "    }\n",
       "\n",
       "    .dataframe thead th {\n",
       "        text-align: right;\n",
       "    }\n",
       "</style>\n",
       "<table border=\"1\" class=\"dataframe\">\n",
       "  <thead>\n",
       "    <tr style=\"text-align: right;\">\n",
       "      <th></th>\n",
       "      <th>Unnamed: 0</th>\n",
       "      <th>year</th>\n",
       "      <th>growing_season</th>\n",
       "      <th>rank</th>\n",
       "    </tr>\n",
       "    <tr>\n",
       "      <th>city</th>\n",
       "      <th></th>\n",
       "      <th></th>\n",
       "      <th></th>\n",
       "      <th></th>\n",
       "    </tr>\n",
       "  </thead>\n",
       "  <tbody>\n",
       "    <tr>\n",
       "      <th>Durham</th>\n",
       "      <td>17</td>\n",
       "      <td>1967</td>\n",
       "      <td>199.542857</td>\n",
       "      <td>100</td>\n",
       "    </tr>\n",
       "    <tr>\n",
       "      <th>Milwaukee</th>\n",
       "      <td>17</td>\n",
       "      <td>1967</td>\n",
       "      <td>169.485714</td>\n",
       "      <td>101</td>\n",
       "    </tr>\n",
       "    <tr>\n",
       "      <th>Provo</th>\n",
       "      <td>17</td>\n",
       "      <td>1967</td>\n",
       "      <td>152.571429</td>\n",
       "      <td>99</td>\n",
       "    </tr>\n",
       "    <tr>\n",
       "      <th>Salt Lake City</th>\n",
       "      <td>17</td>\n",
       "      <td>1967</td>\n",
       "      <td>167.914286</td>\n",
       "      <td>97</td>\n",
       "    </tr>\n",
       "    <tr>\n",
       "      <th>Seattle</th>\n",
       "      <td>17</td>\n",
       "      <td>1967</td>\n",
       "      <td>236.142857</td>\n",
       "      <td>98</td>\n",
       "    </tr>\n",
       "    <tr>\n",
       "      <th>Stockton</th>\n",
       "      <td>17</td>\n",
       "      <td>1967</td>\n",
       "      <td>276.971429</td>\n",
       "      <td>96</td>\n",
       "    </tr>\n",
       "  </tbody>\n",
       "</table>\n",
       "</div>"
      ],
      "text/plain": [
       "                Unnamed: 0  year  growing_season  rank\n",
       "city                                                  \n",
       "Durham                  17  1967      199.542857   100\n",
       "Milwaukee               17  1967      169.485714   101\n",
       "Provo                   17  1967      152.571429    99\n",
       "Salt Lake City          17  1967      167.914286    97\n",
       "Seattle                 17  1967      236.142857    98\n",
       "Stockton                17  1967      276.971429    96"
      ]
     },
     "execution_count": 6,
     "metadata": {},
     "output_type": "execute_result"
    }
   ],
   "source": [
    "best_cities[best_cities.year <=1984].groupby('city').mean()"
   ]
  },
  {
   "cell_type": "code",
   "execution_count": 7,
   "metadata": {},
   "outputs": [
    {
     "data": {
      "text/html": [
       "<div>\n",
       "<style scoped>\n",
       "    .dataframe tbody tr th:only-of-type {\n",
       "        vertical-align: middle;\n",
       "    }\n",
       "\n",
       "    .dataframe tbody tr th {\n",
       "        vertical-align: top;\n",
       "    }\n",
       "\n",
       "    .dataframe thead th {\n",
       "        text-align: right;\n",
       "    }\n",
       "</style>\n",
       "<table border=\"1\" class=\"dataframe\">\n",
       "  <thead>\n",
       "    <tr style=\"text-align: right;\">\n",
       "      <th></th>\n",
       "      <th>Unnamed: 0</th>\n",
       "      <th>year</th>\n",
       "      <th>growing_season</th>\n",
       "      <th>rank</th>\n",
       "    </tr>\n",
       "    <tr>\n",
       "      <th>city</th>\n",
       "      <th></th>\n",
       "      <th></th>\n",
       "      <th></th>\n",
       "      <th></th>\n",
       "    </tr>\n",
       "  </thead>\n",
       "  <tbody>\n",
       "    <tr>\n",
       "      <th>Durham</th>\n",
       "      <td>52</td>\n",
       "      <td>2002</td>\n",
       "      <td>210.285714</td>\n",
       "      <td>100</td>\n",
       "    </tr>\n",
       "    <tr>\n",
       "      <th>Milwaukee</th>\n",
       "      <td>52</td>\n",
       "      <td>2002</td>\n",
       "      <td>183.171429</td>\n",
       "      <td>101</td>\n",
       "    </tr>\n",
       "    <tr>\n",
       "      <th>Provo</th>\n",
       "      <td>52</td>\n",
       "      <td>2002</td>\n",
       "      <td>179.371429</td>\n",
       "      <td>99</td>\n",
       "    </tr>\n",
       "    <tr>\n",
       "      <th>Salt Lake City</th>\n",
       "      <td>52</td>\n",
       "      <td>2002</td>\n",
       "      <td>193.685714</td>\n",
       "      <td>97</td>\n",
       "    </tr>\n",
       "    <tr>\n",
       "      <th>Seattle</th>\n",
       "      <td>52</td>\n",
       "      <td>2002</td>\n",
       "      <td>255.028571</td>\n",
       "      <td>98</td>\n",
       "    </tr>\n",
       "    <tr>\n",
       "      <th>Stockton</th>\n",
       "      <td>52</td>\n",
       "      <td>2002</td>\n",
       "      <td>287.852941</td>\n",
       "      <td>96</td>\n",
       "    </tr>\n",
       "  </tbody>\n",
       "</table>\n",
       "</div>"
      ],
      "text/plain": [
       "                Unnamed: 0  year  growing_season  rank\n",
       "city                                                  \n",
       "Durham                  52  2002      210.285714   100\n",
       "Milwaukee               52  2002      183.171429   101\n",
       "Provo                   52  2002      179.371429    99\n",
       "Salt Lake City          52  2002      193.685714    97\n",
       "Seattle                 52  2002      255.028571    98\n",
       "Stockton                52  2002      287.852941    96"
      ]
     },
     "execution_count": 7,
     "metadata": {},
     "output_type": "execute_result"
    }
   ],
   "source": [
    "best_cities[best_cities.year >=1985].groupby('city').mean()"
   ]
  },
  {
   "cell_type": "code",
   "execution_count": 8,
   "metadata": {},
   "outputs": [
    {
     "data": {
      "text/html": [
       "<div>\n",
       "<style scoped>\n",
       "    .dataframe tbody tr th:only-of-type {\n",
       "        vertical-align: middle;\n",
       "    }\n",
       "\n",
       "    .dataframe tbody tr th {\n",
       "        vertical-align: top;\n",
       "    }\n",
       "\n",
       "    .dataframe thead th {\n",
       "        text-align: right;\n",
       "    }\n",
       "</style>\n",
       "<table border=\"1\" class=\"dataframe\">\n",
       "  <thead>\n",
       "    <tr style=\"text-align: right;\">\n",
       "      <th></th>\n",
       "      <th>Unnamed: 0</th>\n",
       "      <th>year</th>\n",
       "      <th>growing_season</th>\n",
       "      <th>rank</th>\n",
       "    </tr>\n",
       "    <tr>\n",
       "      <th>city</th>\n",
       "      <th></th>\n",
       "      <th></th>\n",
       "      <th></th>\n",
       "      <th></th>\n",
       "    </tr>\n",
       "  </thead>\n",
       "  <tbody>\n",
       "    <tr>\n",
       "      <th>Hartford</th>\n",
       "      <td>17</td>\n",
       "      <td>1967</td>\n",
       "      <td>164.000000</td>\n",
       "      <td>4</td>\n",
       "    </tr>\n",
       "    <tr>\n",
       "      <th>McAllen</th>\n",
       "      <td>17</td>\n",
       "      <td>1967</td>\n",
       "      <td>333.344828</td>\n",
       "      <td>5</td>\n",
       "    </tr>\n",
       "    <tr>\n",
       "      <th>New Haven</th>\n",
       "      <td>17</td>\n",
       "      <td>1967</td>\n",
       "      <td>205.771429</td>\n",
       "      <td>6</td>\n",
       "    </tr>\n",
       "    <tr>\n",
       "      <th>Richmond</th>\n",
       "      <td>17</td>\n",
       "      <td>1967</td>\n",
       "      <td>199.542857</td>\n",
       "      <td>1</td>\n",
       "    </tr>\n",
       "    <tr>\n",
       "      <th>Scranton</th>\n",
       "      <td>17</td>\n",
       "      <td>1967</td>\n",
       "      <td>174.600000</td>\n",
       "      <td>2</td>\n",
       "    </tr>\n",
       "    <tr>\n",
       "      <th>Springfield</th>\n",
       "      <td>17</td>\n",
       "      <td>1967</td>\n",
       "      <td>143.000000</td>\n",
       "      <td>3</td>\n",
       "    </tr>\n",
       "  </tbody>\n",
       "</table>\n",
       "</div>"
      ],
      "text/plain": [
       "             Unnamed: 0  year  growing_season  rank\n",
       "city                                               \n",
       "Hartford             17  1967      164.000000     4\n",
       "McAllen              17  1967      333.344828     5\n",
       "New Haven            17  1967      205.771429     6\n",
       "Richmond             17  1967      199.542857     1\n",
       "Scranton             17  1967      174.600000     2\n",
       "Springfield          17  1967      143.000000     3"
      ]
     },
     "execution_count": 8,
     "metadata": {},
     "output_type": "execute_result"
    }
   ],
   "source": [
    "worst_cities[worst_cities.year <=1984].groupby('city').mean()"
   ]
  },
  {
   "cell_type": "code",
   "execution_count": 13,
   "metadata": {},
   "outputs": [
    {
     "data": {
      "text/html": [
       "<div>\n",
       "<style scoped>\n",
       "    .dataframe tbody tr th:only-of-type {\n",
       "        vertical-align: middle;\n",
       "    }\n",
       "\n",
       "    .dataframe tbody tr th {\n",
       "        vertical-align: top;\n",
       "    }\n",
       "\n",
       "    .dataframe thead th {\n",
       "        text-align: right;\n",
       "    }\n",
       "</style>\n",
       "<table border=\"1\" class=\"dataframe\">\n",
       "  <thead>\n",
       "    <tr style=\"text-align: right;\">\n",
       "      <th></th>\n",
       "      <th>Unnamed: 0</th>\n",
       "      <th>year</th>\n",
       "      <th>growing_season</th>\n",
       "      <th>rank</th>\n",
       "    </tr>\n",
       "    <tr>\n",
       "      <th>city</th>\n",
       "      <th></th>\n",
       "      <th></th>\n",
       "      <th></th>\n",
       "      <th></th>\n",
       "    </tr>\n",
       "  </thead>\n",
       "  <tbody>\n",
       "    <tr>\n",
       "      <th>Hartford</th>\n",
       "      <td>52</td>\n",
       "      <td>2002</td>\n",
       "      <td>173.714286</td>\n",
       "      <td>4</td>\n",
       "    </tr>\n",
       "    <tr>\n",
       "      <th>McAllen</th>\n",
       "      <td>52</td>\n",
       "      <td>2002</td>\n",
       "      <td>352.307692</td>\n",
       "      <td>5</td>\n",
       "    </tr>\n",
       "    <tr>\n",
       "      <th>New Haven</th>\n",
       "      <td>52</td>\n",
       "      <td>2002</td>\n",
       "      <td>211.971429</td>\n",
       "      <td>6</td>\n",
       "    </tr>\n",
       "    <tr>\n",
       "      <th>Richmond</th>\n",
       "      <td>52</td>\n",
       "      <td>2002</td>\n",
       "      <td>214.628571</td>\n",
       "      <td>1</td>\n",
       "    </tr>\n",
       "    <tr>\n",
       "      <th>Scranton</th>\n",
       "      <td>52</td>\n",
       "      <td>2002</td>\n",
       "      <td>171.342857</td>\n",
       "      <td>2</td>\n",
       "    </tr>\n",
       "    <tr>\n",
       "      <th>Springfield</th>\n",
       "      <td>52</td>\n",
       "      <td>2002</td>\n",
       "      <td>151.971429</td>\n",
       "      <td>3</td>\n",
       "    </tr>\n",
       "  </tbody>\n",
       "</table>\n",
       "</div>"
      ],
      "text/plain": [
       "             Unnamed: 0  year  growing_season  rank\n",
       "city                                               \n",
       "Hartford             52  2002      173.714286     4\n",
       "McAllen              52  2002      352.307692     5\n",
       "New Haven            52  2002      211.971429     6\n",
       "Richmond             52  2002      214.628571     1\n",
       "Scranton             52  2002      171.342857     2\n",
       "Springfield          52  2002      151.971429     3"
      ]
     },
     "execution_count": 13,
     "metadata": {},
     "output_type": "execute_result"
    }
   ],
   "source": [
    "worst_cities[worst_cities.year >1984].groupby('city').mean()"
   ]
  },
  {
   "cell_type": "code",
   "execution_count": 14,
   "metadata": {},
   "outputs": [
    {
     "data": {
      "text/plain": [
       "city\n",
       "Hartford        9.714286\n",
       "McAllen        18.962865\n",
       "New Haven       6.200000\n",
       "Richmond       15.085714\n",
       "Scranton       -3.257143\n",
       "Springfield     8.971429\n",
       "Name: growing_season, dtype: float64"
      ]
     },
     "execution_count": 14,
     "metadata": {},
     "output_type": "execute_result"
    }
   ],
   "source": [
    "worst_cities[worst_cities.year >1984].groupby('city').mean().growing_season - worst_cities[worst_cities.year <=1984].groupby('city').mean().growing_season"
   ]
  },
  {
   "cell_type": "code",
   "execution_count": 47,
   "metadata": {},
   "outputs": [
    {
     "data": {
      "text/plain": [
       "city\n",
       "Hartford       13.636364\n",
       "McAllen        26.722222\n",
       "New Haven       2.545455\n",
       "Richmond       18.727273\n",
       "Scranton       -1.363636\n",
       "Springfield     8.545455\n",
       "Name: growing_season, dtype: float64"
      ]
     },
     "execution_count": 47,
     "metadata": {},
     "output_type": "execute_result"
    }
   ],
   "source": [
    "worst_cities[worst_cities.year >=2009].groupby('city').mean().growing_season - worst_cities[worst_cities.year < 1961].groupby('city').mean().growing_season"
   ]
  },
  {
   "cell_type": "code",
   "execution_count": 16,
   "metadata": {},
   "outputs": [
    {
     "data": {
      "text/plain": [
       "city\n",
       "Durham            10.742857\n",
       "Milwaukee         13.685714\n",
       "Provo             26.800000\n",
       "Salt Lake City    25.771429\n",
       "Seattle           18.885714\n",
       "Stockton          10.881513\n",
       "Name: growing_season, dtype: float64"
      ]
     },
     "execution_count": 16,
     "metadata": {},
     "output_type": "execute_result"
    }
   ],
   "source": [
    "best_cities[best_cities.year >=1985].groupby('city').mean().growing_season - best_cities[best_cities.year < 1985].groupby('city').mean().growing_season"
   ]
  },
  {
   "cell_type": "code",
   "execution_count": 46,
   "metadata": {},
   "outputs": [
    {
     "data": {
      "text/plain": [
       "city\n",
       "Durham             7.545455\n",
       "Milwaukee         19.000000\n",
       "Provo             39.090909\n",
       "Salt Lake City    38.363636\n",
       "Seattle           56.727273\n",
       "Stockton          27.545455\n",
       "Name: growing_season, dtype: float64"
      ]
     },
     "execution_count": 46,
     "metadata": {},
     "output_type": "execute_result"
    }
   ],
   "source": [
    "best_cities[best_cities.year >=2009].groupby('city').mean().growing_season - best_cities[best_cities.year < 1961].groupby('city').mean().growing_season"
   ]
  },
  {
   "cell_type": "code",
   "execution_count": 21,
   "metadata": {},
   "outputs": [
    {
     "data": {
      "text/plain": [
       "Unnamed: 0                         313.500000\n",
       "National Provider Identifier         5.199045\n",
       "pop_est                         402341.878981\n",
       "normalized                           1.660139\n",
       "lat                                 37.913908\n",
       "long                               -88.382092\n",
       "dtype: float64"
      ]
     },
     "execution_count": 21,
     "metadata": {},
     "output_type": "execute_result"
    }
   ],
   "source": [
    "allergist.mean()"
   ]
  },
  {
   "cell_type": "code",
   "execution_count": 38,
   "metadata": {},
   "outputs": [
    {
     "data": {
      "text/plain": [
       "0.3748893987152104"
      ]
     },
     "execution_count": 38,
     "metadata": {},
     "output_type": "execute_result"
    }
   ],
   "source": [
    "np.concatenate((np.array(allergist['normalized']), np.zeros(2153))).mean()\n",
    "#length = 628; there are 3,141 counties total -- add 2,513 zeros and take average"
   ]
  },
  {
   "cell_type": "code",
   "execution_count": 39,
   "metadata": {},
   "outputs": [
    {
     "data": {
      "text/plain": [
       "0.1999363260108246"
      ]
     },
     "execution_count": 39,
     "metadata": {},
     "output_type": "execute_result"
    }
   ],
   "source": [
    "628/3141"
   ]
  },
  {
   "cell_type": "code",
   "execution_count": 58,
   "metadata": {},
   "outputs": [
    {
     "data": {
      "text/plain": [
       "[[268.3636363636364, 295.90909090909093],\n",
       " [160.1818181818182, 198.54545454545453],\n",
       " [211.54545454545453, 268.27272727272725],\n",
       " [151.54545454545453, 190.63636363636363],\n",
       " [208.8181818181818, 216.36363636363637],\n",
       " [170.63636363636363, 189.63636363636363]]"
      ]
     },
     "execution_count": 58,
     "metadata": {},
     "output_type": "execute_result"
    }
   ],
   "source": [
    "#format array for ordinal scale range in javascript\n",
    "\n",
    "first = best_cities[best_cities.year < 1961].groupby('city').mean().sort_values('rank').growing_season\n",
    "last = best_cities[best_cities.year >=2009].groupby('city').mean().sort_values('rank').growing_season\n",
    "[[x,y] for x,y in zip(first, last)]"
   ]
  },
  {
   "cell_type": "code",
   "execution_count": 59,
   "metadata": {},
   "outputs": [
    {
     "data": {
      "text/plain": [
       "[[276.9714285714286, 287.8529411764706],\n",
       " [167.9142857142857, 193.68571428571428],\n",
       " [236.14285714285714, 255.02857142857144],\n",
       " [152.57142857142858, 179.37142857142857],\n",
       " [199.54285714285714, 210.28571428571428],\n",
       " [169.4857142857143, 183.17142857142858]]"
      ]
     },
     "execution_count": 59,
     "metadata": {},
     "output_type": "execute_result"
    }
   ],
   "source": [
    "first = best_cities[best_cities.year < 1985].groupby('city').mean().sort_values('rank').growing_season\n",
    "last = best_cities[best_cities.year >=1985].groupby('city').mean().sort_values('rank').growing_season\n",
    "[[x,y] for x,y in zip(first, last)]"
   ]
  },
  {
   "cell_type": "code",
   "execution_count": 60,
   "metadata": {},
   "outputs": [
    {
     "data": {
      "text/plain": [
       "[[199.54285714285714, 214.62857142857143],\n",
       " [174.6, 171.34285714285716],\n",
       " [143.0, 151.97142857142856],\n",
       " [164.0, 173.71428571428572],\n",
       " [333.3448275862069, 352.3076923076923],\n",
       " [205.77142857142857, 211.97142857142856]]"
      ]
     },
     "execution_count": 60,
     "metadata": {},
     "output_type": "execute_result"
    }
   ],
   "source": [
    "first = worst_cities[worst_cities.year < 1985].groupby('city').mean().sort_values('rank').growing_season\n",
    "last = worst_cities[worst_cities.year >=1985].groupby('city').mean().sort_values('rank').growing_season\n",
    "[[x,y] for x,y in zip(first, last)]"
   ]
  },
  {
   "cell_type": "code",
   "execution_count": 61,
   "metadata": {},
   "outputs": [
    {
     "data": {
      "text/plain": [
       "[[201.27272727272728, 220.0],\n",
       " [175.63636363636363, 174.27272727272728],\n",
       " [153.0, 161.54545454545453],\n",
       " [167.9090909090909, 181.54545454545453],\n",
       " [323.1111111111111, 349.8333333333333],\n",
       " [212.0, 214.54545454545453]]"
      ]
     },
     "execution_count": 61,
     "metadata": {},
     "output_type": "execute_result"
    }
   ],
   "source": [
    "first = worst_cities[worst_cities.year < 1961].groupby('city').mean().sort_values('rank').growing_season\n",
    "last = worst_cities[worst_cities.year >=2009].groupby('city').mean().sort_values('rank').growing_season\n",
    "[[x,y] for x,y in zip(first, last)]"
   ]
  },
  {
   "cell_type": "code",
   "execution_count": null,
   "metadata": {},
   "outputs": [],
   "source": []
  }
 ],
 "metadata": {
  "kernelspec": {
   "display_name": "Python 3",
   "language": "python",
   "name": "python3"
  },
  "language_info": {
   "codemirror_mode": {
    "name": "ipython",
    "version": 3
   },
   "file_extension": ".py",
   "mimetype": "text/x-python",
   "name": "python",
   "nbconvert_exporter": "python",
   "pygments_lexer": "ipython3",
   "version": "3.6.9"
  }
 },
 "nbformat": 4,
 "nbformat_minor": 4
}
